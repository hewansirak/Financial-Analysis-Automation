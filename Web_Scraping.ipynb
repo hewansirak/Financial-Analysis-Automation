{
 "cells": [
  {
   "cell_type": "code",
   "execution_count": 14,
   "metadata": {},
   "outputs": [],
   "source": [
    "import requests\n",
    "from bs4 import BeautifulSoup\n",
    "from dotenv import load_dotenv\n",
    "\n",
    "import os\n",
    "import openai\n",
    "\n",
    "load_dotenv()\n",
    "\n",
    "client = openai.OpenAI(\n",
    "    base_url=\"https://api.groq.com/openai/v1\",\n",
    "    api_key=os.environ.get(\"GROQ_API_KEY\")\n",
    ")\n"
   ]
  },
  {
   "cell_type": "code",
   "execution_count": 15,
   "metadata": {},
   "outputs": [
    {
     "name": "stdout",
     "output_type": "stream",
     "text": [
      "[<p class=\"ArticleDek_root__P3leE\">Another billionaire space enthusiast could make his way into the Trump administration.</p>, <p class=\"ArticleParagraph_root__4mszW\" data-flatplan-paragraph=\"true\">Yesterday, President-Elect Donald Trump <a data-event-element=\"inline link\" href=\"https://truthsocial.com/@realDonaldTrump/posts/113595378122687080\">announced</a> his nomination of Jared Isaacman, a 41-year-old entrepreneur, private astronaut, and pilot, as the head of NASA. The statement that went out was pretty bland. It included stock phrases—“delighted to”; “paving the way”; “demonstrated exceptional leadership”—of the type that corporations use when elevating middle managers. Reading it, I wondered whether Trump’s heart is really in this selection of a billionaire with a <a data-event-element=\"inline link\" href=\"https://www.influencewatch.org/person/jared-isaacman/\">history of supporting</a> Democratic candidates and committees.</p>, <p class=\"ArticleParagraph_root__4mszW\" data-flatplan-paragraph=\"true\">Maybe this was Elon Musk’s decision. Isaacman is a pal and an extreme admirer of Musk’s. “I generally try not to bother the guy,” Isaacman <a data-event-element=\"inline link\" href=\"https://www.youtube.com/watch?v=9Kn2zg5Ub04&amp;t=11s\">has said</a>, when asked about their relationship. “He’s literally thinking all the time about solving the world’s problems.” In some ways, Isaacman is Musk’s Mini-Me. Both men made their fortune, in part, from payment-processing companies. Both used their wealth to pursue their boyhood dreams of spaceflight: Musk created SpaceX; Isaacman began in the lower atmosphere, by buying up the world’s largest commercial fleet of ex-military aircraft. In 2021, Isaacman treated himself to an entire SpaceX mission, which allowed him to see the Earth from space. Earlier this year, he again hired SpaceX to fire him into orbit to conduct <a data-event-element=\"inline link\" href=\"https://www.theatlantic.com/science/archive/2024/09/spacex-spacewalk-isaacman-polaris-dawn/679767/\">the first private spacewalk</a>.</p>, <p class=\"ArticleParagraph_root__4mszW\" data-flatplan-paragraph=\"true\">If Isaacman is confirmed by the Senate and takes the reins at NASA, he will have leveled up from being a small, albeit highly visible, purchaser of SpaceX’s services to the company’s largest customer. For more than a decade, NASA has been developing a costly one-and-done rocket system that can launch humans to distant destinations beyond lower Earth orbit. SpaceX recently leapfrogged the agency with the Starship system, which is meant to be not only fully reusable, but also more functional once in space. With Isaacman in charge at NASA, the agency’s inferior homegrown rocket may be more likely to get <a data-event-element=\"inline link\" href=\"https://x.com/SciGuySpace/status/1856522880143745133\">killed off</a>, once and for all—which means that more federal dollars may soon be flowing into SpaceX’s coffers.</p>, <p class=\"ArticleRelatedContentLink_root__VYc9V\" data-event-element=\"injected link\" data-event-position=\"1\" data-view-action=\"view link - injected link - item 1\" id=\"injected-recirculation-link-0\"><a href=\"https://www.theatlantic.com/science/archive/2024/09/spacex-spacewalk-isaacman-polaris-dawn/679767/\">Read: The scariest spacewalk in 50 years</a></p>, <p class=\"ArticleParagraph_root__4mszW\" data-flatplan-paragraph=\"true\">Yesterday, after the nomination was announced, I reached out to John Grunsfeld, who served as NASA’s chief scientist during the George W. Bush administration, and later led the agency’s science directorate under Barack Obama. Grunsfeld has been critical of Isaacman in the past. In 2022, Isaacman began to lobby for a private mission—presumably with himself in command—to service the Hubble Space Telescope, thereby extending its life. Grunsfeld, a former astronaut who was the principal repairman on three of NASA’s previous Hubble-servicing missions, was part of the group who reviewed Isaacman’s proposal. Like others at the agency, he <a data-event-element=\"inline link\" href=\"https://www.npr.org/2024/05/16/1250250249/spacex-repair-hubble-space-telescope-nasa-foia\">found it</a> too risky, and perhaps premature.</p>, <p class=\"ArticleParagraph_root__4mszW\" data-flatplan-paragraph=\"true\">Despite those concerns, Grunsfeld told me he was optimistic about the nomination. “For the last 10 years, NASA’s science missions keep getting raided to pay for overruns in the human-spaceflight program,” he said. The fact that Isaacman was so interested in extending Hubble’s lifespan struck Grunsfeld as a good sign for future science missions at the agency. He did note that Isaacman seems to have no experience managing an organization with a $25 billion budget and 18,000 employees, but when I pointed out that politicians with even less management experience had successfully run NASA in very recent memory, Grunsfeld agreed. “The pick could have been a lot worse,” he said.</p>, <p class=\"ArticleParagraph_root__4mszW\" data-flatplan-paragraph=\"true\">If Isaacman does end up in government, he will need to drive NASA hard if he wants to keep his new boss happy. Trump has <a data-event-element=\"inline link\" href=\"https://www.bbc.com/news/world-us-canada-48842428\">a fetish</a> for nationalist spectacle. During his first term, he vowed to return Americans to the moon. The expected date of this triumph has been <a data-event-element=\"inline link\" href=\"https://www.nasa.gov/general/faq-nasas-artemis-campaign-and-recent-updates/\">pushed back</a> several times, but Trump will no doubt want to see it happen while he’s still in office, especially now that China is gearing up for its own lunar missions.</p>, <p class=\"ArticleParagraph_root__4mszW\" data-flatplan-paragraph=\"true\">If confirmed, Isaacman would have to balance this new space race against NASA’s other priorities, including its climate-science program. Trump previously tried to deprioritize the sort of missions that would monitor glacial melt and sea-level rise, but he was largely foiled by Congress. Isaacman’s views on climate change remain somewhat <a data-event-element=\"inline link\" href=\"https://www.eenews.net/articles/what-trumps-moderate-nasa-pick-means-for-climate-science/\">mysterious</a>, and so we will have to wait to learn his inclinations, and whether those inclinations even matter much if he’s working in service of a denialist president.</p>, <p class=\"ArticleParagraph_root__4mszW\" data-flatplan-paragraph=\"true\">The most delicate task before Isaacman might be to figure out exactly whom he answers to, especially if Trump and Musk have a falling out at some future date. Isaacman clearly wants to be part of the larger enterprise of space exploration for a long time to come, but Trump is scheduled to be in office only until 2029. Musk doesn’t have term limits; he will likely be the largest provider of launch services long after that. If anything, this pick only confirms that Musk, rather than any government official, is now the big boss in space. Isaacman will know that going in.</p>, <p class=\"ArticleBio_contentHeading__cmbmT\">More Stories</p>, <p>When a Telescope Is a National-Security Risk</p>, <p>On Election Night, Stare Into the Abyss</p>]\n"
     ]
    }
   ],
   "source": [
    "\n",
    "# Making a GET request\n",
    "r = requests.get('https://www.theatlantic.com/science/archive/2024/12/elon-musk-jared-isacman-nasa/680884')\n",
    "\n",
    "# Parsing the HTML\n",
    "soup = BeautifulSoup(r.content, 'html.parser')\n",
    "\n",
    "s = soup.find('div', class_='entry-content')\n",
    "content = soup.find_all('p')\n",
    "\n",
    "print(content)"
   ]
  },
  {
   "cell_type": "code",
   "execution_count": 16,
   "metadata": {},
   "outputs": [
    {
     "data": {
      "text/plain": [
       "[<p class=\"ArticleDek_root__P3leE\">Another billionaire space enthusiast could make his way into the Trump administration.</p>,\n",
       " <p class=\"ArticleParagraph_root__4mszW\" data-flatplan-paragraph=\"true\">Yesterday, President-Elect Donald Trump <a data-event-element=\"inline link\" href=\"https://truthsocial.com/@realDonaldTrump/posts/113595378122687080\">announced</a> his nomination of Jared Isaacman, a 41-year-old entrepreneur, private astronaut, and pilot, as the head of NASA. The statement that went out was pretty bland. It included stock phrases—“delighted to”; “paving the way”; “demonstrated exceptional leadership”—of the type that corporations use when elevating middle managers. Reading it, I wondered whether Trump’s heart is really in this selection of a billionaire with a <a data-event-element=\"inline link\" href=\"https://www.influencewatch.org/person/jared-isaacman/\">history of supporting</a> Democratic candidates and committees.</p>,\n",
       " <p class=\"ArticleParagraph_root__4mszW\" data-flatplan-paragraph=\"true\">Maybe this was Elon Musk’s decision. Isaacman is a pal and an extreme admirer of Musk’s. “I generally try not to bother the guy,” Isaacman <a data-event-element=\"inline link\" href=\"https://www.youtube.com/watch?v=9Kn2zg5Ub04&amp;t=11s\">has said</a>, when asked about their relationship. “He’s literally thinking all the time about solving the world’s problems.” In some ways, Isaacman is Musk’s Mini-Me. Both men made their fortune, in part, from payment-processing companies. Both used their wealth to pursue their boyhood dreams of spaceflight: Musk created SpaceX; Isaacman began in the lower atmosphere, by buying up the world’s largest commercial fleet of ex-military aircraft. In 2021, Isaacman treated himself to an entire SpaceX mission, which allowed him to see the Earth from space. Earlier this year, he again hired SpaceX to fire him into orbit to conduct <a data-event-element=\"inline link\" href=\"https://www.theatlantic.com/science/archive/2024/09/spacex-spacewalk-isaacman-polaris-dawn/679767/\">the first private spacewalk</a>.</p>,\n",
       " <p class=\"ArticleParagraph_root__4mszW\" data-flatplan-paragraph=\"true\">If Isaacman is confirmed by the Senate and takes the reins at NASA, he will have leveled up from being a small, albeit highly visible, purchaser of SpaceX’s services to the company’s largest customer. For more than a decade, NASA has been developing a costly one-and-done rocket system that can launch humans to distant destinations beyond lower Earth orbit. SpaceX recently leapfrogged the agency with the Starship system, which is meant to be not only fully reusable, but also more functional once in space. With Isaacman in charge at NASA, the agency’s inferior homegrown rocket may be more likely to get <a data-event-element=\"inline link\" href=\"https://x.com/SciGuySpace/status/1856522880143745133\">killed off</a>, once and for all—which means that more federal dollars may soon be flowing into SpaceX’s coffers.</p>,\n",
       " <p class=\"ArticleRelatedContentLink_root__VYc9V\" data-event-element=\"injected link\" data-event-position=\"1\" data-view-action=\"view link - injected link - item 1\" id=\"injected-recirculation-link-0\"><a href=\"https://www.theatlantic.com/science/archive/2024/09/spacex-spacewalk-isaacman-polaris-dawn/679767/\">Read: The scariest spacewalk in 50 years</a></p>,\n",
       " <p class=\"ArticleParagraph_root__4mszW\" data-flatplan-paragraph=\"true\">Yesterday, after the nomination was announced, I reached out to John Grunsfeld, who served as NASA’s chief scientist during the George W. Bush administration, and later led the agency’s science directorate under Barack Obama. Grunsfeld has been critical of Isaacman in the past. In 2022, Isaacman began to lobby for a private mission—presumably with himself in command—to service the Hubble Space Telescope, thereby extending its life. Grunsfeld, a former astronaut who was the principal repairman on three of NASA’s previous Hubble-servicing missions, was part of the group who reviewed Isaacman’s proposal. Like others at the agency, he <a data-event-element=\"inline link\" href=\"https://www.npr.org/2024/05/16/1250250249/spacex-repair-hubble-space-telescope-nasa-foia\">found it</a> too risky, and perhaps premature.</p>,\n",
       " <p class=\"ArticleParagraph_root__4mszW\" data-flatplan-paragraph=\"true\">Despite those concerns, Grunsfeld told me he was optimistic about the nomination. “For the last 10 years, NASA’s science missions keep getting raided to pay for overruns in the human-spaceflight program,” he said. The fact that Isaacman was so interested in extending Hubble’s lifespan struck Grunsfeld as a good sign for future science missions at the agency. He did note that Isaacman seems to have no experience managing an organization with a $25 billion budget and 18,000 employees, but when I pointed out that politicians with even less management experience had successfully run NASA in very recent memory, Grunsfeld agreed. “The pick could have been a lot worse,” he said.</p>,\n",
       " <p class=\"ArticleParagraph_root__4mszW\" data-flatplan-paragraph=\"true\">If Isaacman does end up in government, he will need to drive NASA hard if he wants to keep his new boss happy. Trump has <a data-event-element=\"inline link\" href=\"https://www.bbc.com/news/world-us-canada-48842428\">a fetish</a> for nationalist spectacle. During his first term, he vowed to return Americans to the moon. The expected date of this triumph has been <a data-event-element=\"inline link\" href=\"https://www.nasa.gov/general/faq-nasas-artemis-campaign-and-recent-updates/\">pushed back</a> several times, but Trump will no doubt want to see it happen while he’s still in office, especially now that China is gearing up for its own lunar missions.</p>,\n",
       " <p class=\"ArticleParagraph_root__4mszW\" data-flatplan-paragraph=\"true\">If confirmed, Isaacman would have to balance this new space race against NASA’s other priorities, including its climate-science program. Trump previously tried to deprioritize the sort of missions that would monitor glacial melt and sea-level rise, but he was largely foiled by Congress. Isaacman’s views on climate change remain somewhat <a data-event-element=\"inline link\" href=\"https://www.eenews.net/articles/what-trumps-moderate-nasa-pick-means-for-climate-science/\">mysterious</a>, and so we will have to wait to learn his inclinations, and whether those inclinations even matter much if he’s working in service of a denialist president.</p>,\n",
       " <p class=\"ArticleParagraph_root__4mszW\" data-flatplan-paragraph=\"true\">The most delicate task before Isaacman might be to figure out exactly whom he answers to, especially if Trump and Musk have a falling out at some future date. Isaacman clearly wants to be part of the larger enterprise of space exploration for a long time to come, but Trump is scheduled to be in office only until 2029. Musk doesn’t have term limits; he will likely be the largest provider of launch services long after that. If anything, this pick only confirms that Musk, rather than any government official, is now the big boss in space. Isaacman will know that going in.</p>,\n",
       " <p class=\"ArticleBio_contentHeading__cmbmT\">More Stories</p>,\n",
       " <p>When a Telescope Is a National-Security Risk</p>,\n",
       " <p>On Election Night, Stare Into the Abyss</p>]"
      ]
     },
     "execution_count": 16,
     "metadata": {},
     "output_type": "execute_result"
    }
   ],
   "source": [
    "content"
   ]
  },
  {
   "cell_type": "code",
   "execution_count": 18,
   "metadata": {},
   "outputs": [],
   "source": [
    "article_text = \" \".join([c.text for c in content]) # To extract without the html code and makes it a string"
   ]
  },
  {
   "cell_type": "code",
   "execution_count": 19,
   "metadata": {},
   "outputs": [
    {
     "data": {
      "text/plain": [
       "'Another billionaire space enthusiast could make his way into the Trump administration. Yesterday, President-Elect Donald Trump announced his nomination of Jared Isaacman, a 41-year-old entrepreneur, private astronaut, and pilot, as the head of NASA. The statement that went out was pretty bland. It included stock phrases—“delighted to”; “paving the way”; “demonstrated exceptional leadership”—of the type that corporations use when elevating middle managers. Reading it, I wondered whether Trump’s heart is really in this selection of a billionaire with a history of supporting Democratic candidates and committees. Maybe this was Elon Musk’s decision. Isaacman is a pal and an extreme admirer of Musk’s. “I generally try not to bother the guy,” Isaacman has said, when asked about their relationship. “He’s literally thinking all the time about solving the world’s problems.” In some ways, Isaacman is Musk’s Mini-Me. Both men made their fortune, in part, from payment-processing companies. Both used their wealth to pursue their boyhood dreams of spaceflight: Musk created SpaceX; Isaacman began in the lower atmosphere, by buying up the world’s largest commercial fleet of ex-military aircraft. In 2021, Isaacman treated himself to an entire SpaceX mission, which allowed him to see the Earth from space. Earlier this year, he again hired SpaceX to fire him into orbit to conduct the first private spacewalk. If Isaacman is confirmed by the Senate and takes the reins at NASA, he will have leveled up from being a small, albeit highly visible, purchaser of SpaceX’s services to the company’s largest customer. For more than a decade, NASA has been developing a costly one-and-done rocket system that can launch humans to distant destinations beyond lower Earth orbit. SpaceX recently leapfrogged the agency with the Starship system, which is meant to be not only fully reusable, but also more functional once in space. With Isaacman in charge at NASA, the agency’s inferior homegrown rocket may be more likely to get killed off, once and for all—which means that more federal dollars may soon be flowing into SpaceX’s coffers. Read: The scariest spacewalk in 50 years Yesterday, after the nomination was announced, I reached out to John Grunsfeld, who served as NASA’s chief scientist during the George W. Bush administration, and later led the agency’s science directorate under Barack Obama. Grunsfeld has been critical of Isaacman in the past. In 2022, Isaacman began to lobby for a private mission—presumably with himself in command—to service the Hubble Space Telescope, thereby extending its life. Grunsfeld, a former astronaut who was the principal repairman on three of NASA’s previous Hubble-servicing missions, was part of the group who reviewed Isaacman’s proposal. Like others at the agency, he found it too risky, and perhaps premature. Despite those concerns, Grunsfeld told me he was optimistic about the nomination. “For the last 10 years, NASA’s science missions keep getting raided to pay for overruns in the human-spaceflight program,” he said. The fact that Isaacman was so interested in extending Hubble’s lifespan struck Grunsfeld as a good sign for future science missions at the agency. He did note that Isaacman seems to have no experience managing an organization with a $25 billion budget and 18,000 employees, but when I pointed out that politicians with even less management experience had successfully run NASA in very recent memory, Grunsfeld agreed. “The pick could have been a lot worse,” he said. If Isaacman does end up in government, he will need to drive NASA hard if he wants to keep his new boss happy. Trump has a fetish for nationalist spectacle. During his first term, he vowed to return Americans to the moon. The expected date of this triumph has been pushed back several times, but Trump will no doubt want to see it happen while he’s still in office, especially now that China is gearing up for its own lunar missions. If confirmed, Isaacman would have to balance this new space race against NASA’s other priorities, including its climate-science program. Trump previously tried to deprioritize the sort of missions that would monitor glacial melt and sea-level rise, but he was largely foiled by Congress. Isaacman’s views on climate change remain somewhat mysterious, and so we will have to wait to learn his inclinations, and whether those inclinations even matter much if he’s working in service of a denialist president. The most delicate task before Isaacman might be to figure out exactly whom he answers to, especially if Trump and Musk have a falling out at some future date. Isaacman clearly wants to be part of the larger enterprise of space exploration for a long time to come, but Trump is scheduled to be in office only until 2029. Musk doesn’t have term limits; he will likely be the largest provider of launch services long after that. If anything, this pick only confirms that Musk, rather than any government official, is now the big boss in space. Isaacman will know that going in. More Stories When a Telescope Is a National-Security Risk On Election Night, Stare Into the Abyss'"
      ]
     },
     "execution_count": 19,
     "metadata": {},
     "output_type": "execute_result"
    }
   ],
   "source": [
    "article_text"
   ]
  },
  {
   "cell_type": "code",
   "execution_count": null,
   "metadata": {},
   "outputs": [],
   "source": [
    "prompt = \"You are an expert financial analyst. Based on the text in the article below, return a list of stock tickers that are related to the article.\n",
    "\n",
    "\n",
    "\""
   ]
  }
 ],
 "metadata": {
  "kernelspec": {
   "display_name": "Python 3",
   "language": "python",
   "name": "python3"
  },
  "language_info": {
   "codemirror_mode": {
    "name": "ipython",
    "version": 3
   },
   "file_extension": ".py",
   "mimetype": "text/x-python",
   "name": "python",
   "nbconvert_exporter": "python",
   "pygments_lexer": "ipython3",
   "version": "3.11.0"
  }
 },
 "nbformat": 4,
 "nbformat_minor": 2
}
